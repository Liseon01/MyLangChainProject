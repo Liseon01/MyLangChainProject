{
 "cells": [
  {
   "cell_type": "markdown",
   "metadata": {},
   "source": [
    "#### 1. 패키지 설치"
   ]
  },
  {
   "cell_type": "code",
   "execution_count": null,
   "metadata": {},
   "outputs": [],
   "source": [
    "# poetry add langchain-ollama"
   ]
  },
  {
   "cell_type": "markdown",
   "metadata": {},
   "source": [
    "#### 로컬 Ollama로 설치한 deepseek-r1:1.5b 모델을 사용하기\n",
    "##### ollama run deepseek-r1:1.5b"
   ]
  },
  {
   "cell_type": "code",
   "execution_count": 2,
   "metadata": {},
   "outputs": [
    {
     "ename": "ModuleNotFoundError",
     "evalue": "No module named 'langchain_community'",
     "output_type": "error",
     "traceback": [
      "\u001b[31m---------------------------------------------------------------------------\u001b[39m",
      "\u001b[31mModuleNotFoundError\u001b[39m                       Traceback (most recent call last)",
      "\u001b[36mCell\u001b[39m\u001b[36m \u001b[39m\u001b[32mIn[2]\u001b[39m\u001b[32m, line 1\u001b[39m\n\u001b[32m----> \u001b[39m\u001b[32m1\u001b[39m \u001b[38;5;28;01mfrom\u001b[39;00m\u001b[38;5;250m \u001b[39m\u001b[34;01mlangchain\u001b[39;00m\u001b[34;01m.\u001b[39;00m\u001b[34;01mllms\u001b[39;00m\u001b[38;5;250m \u001b[39m\u001b[38;5;28;01mimport\u001b[39;00m Ollama\n\u001b[32m      2\u001b[39m \u001b[38;5;28;01mfrom\u001b[39;00m\u001b[38;5;250m \u001b[39m\u001b[34;01mlangchain\u001b[39;00m\u001b[34;01m.\u001b[39;00m\u001b[34;01mprompts\u001b[39;00m\u001b[38;5;250m \u001b[39m\u001b[38;5;28;01mimport\u001b[39;00m PromptTemplate\n\u001b[32m      3\u001b[39m \u001b[38;5;28;01mfrom\u001b[39;00m\u001b[38;5;250m \u001b[39m\u001b[34;01mlangchain\u001b[39;00m\u001b[34;01m.\u001b[39;00m\u001b[34;01mchains\u001b[39;00m\u001b[38;5;250m \u001b[39m\u001b[38;5;28;01mimport\u001b[39;00m LLMChain\n",
      "\u001b[36mFile \u001b[39m\u001b[32mc:\\Users\\user\\AppData\\Local\\pypoetry\\Cache\\virtualenvs\\mylangchain-app-SBe-Yh6W-py3.12\\Lib\\site-packages\\langchain\\llms\\__init__.py:545\u001b[39m, in \u001b[36m__getattr__\u001b[39m\u001b[34m(name)\u001b[39m\n\u001b[32m    544\u001b[39m \u001b[38;5;28;01mdef\u001b[39;00m\u001b[38;5;250m \u001b[39m\u001b[34m__getattr__\u001b[39m(name: \u001b[38;5;28mstr\u001b[39m) -> Any:\n\u001b[32m--> \u001b[39m\u001b[32m545\u001b[39m     \u001b[38;5;28;01mfrom\u001b[39;00m\u001b[38;5;250m \u001b[39m\u001b[34;01mlangchain_community\u001b[39;00m\u001b[38;5;250m \u001b[39m\u001b[38;5;28;01mimport\u001b[39;00m llms\n\u001b[32m    547\u001b[39m     \u001b[38;5;66;03m# If not in interactive env, raise warning.\u001b[39;00m\n\u001b[32m    548\u001b[39m     \u001b[38;5;28;01mif\u001b[39;00m \u001b[38;5;129;01mnot\u001b[39;00m is_interactive_env():\n",
      "\u001b[31mModuleNotFoundError\u001b[39m: No module named 'langchain_community'"
     ]
    }
   ],
   "source": [
    "from langchain.llms import Ollama\n",
    "from langchain.prompts import PromptTemplate\n",
    "from langchain.chains import LLMChain\n",
    "\n",
    "# Ollama를 사용하여 로컬에서 실행 중인 deepseek-r1 모델을 로드\n",
    "llm = Ollama(model=\"deepseek-r1:1.5b\")\n",
    "\n",
    "# 프롬프트 템플릿 정의\n",
    "prompt_template = PromptTemplate(\n",
    "    input_variables=[\"question\"],\n",
    "    template=\"Q: {question}\\nA:\"\n",
    ")\n",
    "\n",
    "# LLMChain 생성\n",
    "chain = LLMChain(llm=llm, prompt=prompt_template)\n",
    "\n",
    "# 질문을 입력하고 모델의 응답을 받음\n",
    "question = \"What is LangChain?\"\n",
    "response = chain.invoke({\"question\": question})\n",
    "\n",
    "# 결과 출력\n",
    "print(type(response))\n",
    "print(response)\n",
    "print(response[\"text\"])"
   ]
  },
  {
   "cell_type": "markdown",
   "metadata": {},
   "source": [
    "##### 최신버전 LangChain에서는 ChatOllama와 RunnableSequence(prompt | llm) 를 사용"
   ]
  },
  {
   "cell_type": "code",
   "execution_count": 3,
   "metadata": {},
   "outputs": [
    {
     "name": "stdout",
     "output_type": "stream",
     "text": [
      "<class 'langchain_core.messages.ai.AIMessage'>\n",
      "content='<think>\\nOkay, so I need to figure out what Python is. Hmm, I\\'ve heard of Python before but don\\'t really know much about it. Let me start by breaking down the question. The user asked for a detailed explanation of Python, and they provided an example response. Now, I should think through how someone would come up with that answer.\\n\\nFirst off, I remember seeing people use Python to do programming, maybe on websites or as a learning tool. It\\'s often used in web development because it can handle HTML, CSS, JavaScript pretty well. But is there more to it? Maybe I\\'m missing some aspects of what Python actually is beyond just the programming language.\\n\\nI think Python was created by someone named businessman and developer named Tim Newsham or something like that? Wait, I think it was someone with a long career in software development. Oh right, it\\'s a general-purpose programming language that\\'s known for its simplicity despite being powerful. That makes sense because if you need to do anything complex, Python can handle it, especially with libraries.\\n\\nI\\'ve heard of modules before, which are like packages that other programs use. So Python can have these modules that add functionality to the main code. But does that make Python a standalone language or just a tool for other languages? Or is it something else entirely?\\n\\nLet me think about its structure. Python uses syntax similar to English, but with some differences. There are keywords like if, while, etc., which you can\\'t use in normal programming. Control structures are also unique. For instance, in English, you have \"if-else\" statements, while in Python it\\'s elif, else clause.\\n\\nI\\'m not entirely sure about the language features. I think Python supports object-oriented programming, where objects have attributes and methods. That makes sense because many real-world applications use OO patterns. But does that make it a separate paradigm compared to other languages?\\n\\nAlso, I remember terms like interpreter vs compiler. The interpreter runs code as you type it, while the compiler pre-processes the code before running it. So Python is an interpreter, which means it\\'s easier for someone just starting out because they don\\'t have to write all the syntax right away.\\n\\nWhat about data structures? Python has lists, dictionaries, sets, and others. It can handle complex data like tuples and generators, which are useful in certain scenarios. I\\'m curious if there are any limitations or specific use cases where Python isn\\'t suitable, but I think it\\'s versatile enough for most programming needs.\\n\\nAnother thing is the community aspect. Since it\\'s open-source and widely used, there\\'s a large community contributing to its development. That means there\\'s support, resources, and updates available continuously.\\n\\nWait, did I miss any key points? Maybe its versatility in programming languages beyond just web development. It can be used for web, mobile app, desktop applications, and even systems programming. So it\\'s not limited to any one area, which is a big part of why it\\'s so popular.\\n\\nI should also consider the learning aspect. Python has a gentle learning curve because of its simplicity despite being powerful. This makes it accessible for many people, including those new to programming, which is another point where someone would explain it well.\\n\\nBut I\\'m not entirely sure if that makes Python more than just a programming language or just a language with some unique features. There must be something else that distinguishes it from other languages. Maybe its role in the broader ecosystem of software development and web technologies adds to why it\\'s considered so important.\\n\\nIn summary, after thinking through all these points, I realize that Python is a high-level, general-purpose programming language known for its simplicity and power, with features like modules, interpreter, and object-oriented programming, as well as being widely used in various applications. Its community support and versatility make it a key tool in software development.\\n</think>\\n\\nPython is a versatile, high-level programming language that is renowned for its simplicity and efficiency, despite its rich set of features. Here\\'s a structured overview of Python:\\n\\n1. **Language Overview**: \\n   - Developed by businessman and developer Tim Newsham, along with others, it emerged as a general-purpose language designed to be easy to learn yet powerful.\\n   - Known for its minimalist syntax, which allows for concise code writing.\\n\\n2. **Key Features**:\\n   - **Object-Oriented Programming (OOP)**: Python supports OOP using keywords like `if`, `elif`, and `else` instead of the traditional `else if`.\\n   - **Interpreted Language**: Unlike compiled languages, Python is an interpreted interpreter that runs code as you type it.\\n   - **Modules and Libraries**: It includes a module system allowing for the creation of reusable \"objects\" of code. Modules are collections of functions, classes, or variables used by other programs.\\n\\n3. **Data Structures**:\\n   - Supports basic data structures such as lists, dictionaries, tuples, sets, etc., which are essential for various applications.\\n   - Handles complex structures like generators and tuples, making it suitable for both simple and intricate tasks.\\n\\n4. **Broader Context**:\\n   - Python is part of the broader ecosystem that includes web technologies, mobile applications, desktop apps, and systems programming.\\n   - It has a significant community contribution, offering continuous support, resources, and updates.\\n\\n5. **Learning Curve**:\\n   - Known for its gentle learning curve due to its simplicity, making it accessible to many newcomers while providing enough complexity to suit a range of programmers.\\n\\n6. **Widely Used in Software Development**:\\n   - Python is not limited to web development; it is used across various domains including web, mobile app, desktop apps, and systems programming.\\n   - Its versatility makes it a key tool for software developers worldwide.\\n\\n7. **Community Support**:\\n   - The community contributes to its development, providing resources, tutorials, and updates, enhancing the overall quality of Python\\'s ecosystem.\\n\\nIn summary, Python is a fundamental language in the broader software development landscape, offering a combination of simplicity, power, and versatility. Its use spans multiple domains, making it a crucial tool for programmers seeking flexibility and ease in coding.' additional_kwargs={} response_metadata={'model': 'deepseek-r1:1.5b', 'created_at': '2025-09-20T17:38:21.2018105Z', 'done': True, 'done_reason': 'stop', 'total_duration': 54090370600, 'load_duration': 146283500, 'prompt_eval_count': 24, 'prompt_eval_duration': 531536600, 'eval_count': 1253, 'eval_duration': 53410319700, 'model_name': 'deepseek-r1:1.5b'} id='run--fdd0495b-420f-4f84-9c7a-96a230cab0e7-0' usage_metadata={'input_tokens': 24, 'output_tokens': 1253, 'total_tokens': 1277}\n"
     ]
    }
   ],
   "source": [
    "from langchain_ollama import ChatOllama\n",
    "from langchain_core.prompts import ChatPromptTemplate\n",
    "\n",
    "# Ollama를 사용하여 로컬에서 실행 중인 llama3.2 모델 로드\n",
    "llm = ChatOllama(model=\"deepseek-r1:1.5b\")\n",
    "\n",
    "# 프롬프트 템플릿 정의\n",
    "# prompt_template = PromptTemplate.from_template(\"Q: {question}\\nA:\")\n",
    "\n",
    "# 더 정확한 응답을 위한 개선된 프롬프트\n",
    "prompt_template = ChatPromptTemplate.from_messages([\n",
    "    (\"system\", \"You are an AI assistant that provides accurate and detailed answers.\"),\n",
    "    (\"human\", \"Q: {question}\\nA:\")\n",
    "])\n",
    "\n",
    "# 최신 LangChain 방식: RunnableSequence 활용\n",
    "chain = prompt_template | llm\n",
    "\n",
    "# 실행 예시\n",
    "question = \"What is Pyhon?\"\n",
    "response = chain.invoke({\"question\": question})\n",
    "\n",
    "print(type(response))\n",
    "print(response)"
   ]
  },
  {
   "cell_type": "code",
   "execution_count": 4,
   "metadata": {},
   "outputs": [
    {
     "name": "stdout",
     "output_type": "stream",
     "text": [
      "<think>\n",
      "Okay, so I need to figure out what Python is. Hmm, I've heard of Python before but don't really know much about it. Let me start by breaking down the question. The user asked for a detailed explanation of Python, and they provided an example response. Now, I should think through how someone would come up with that answer.\n",
      "\n",
      "First off, I remember seeing people use Python to do programming, maybe on websites or as a learning tool. It's often used in web development because it can handle HTML, CSS, JavaScript pretty well. But is there more to it? Maybe I'm missing some aspects of what Python actually is beyond just the programming language.\n",
      "\n",
      "I think Python was created by someone named businessman and developer named Tim Newsham or something like that? Wait, I think it was someone with a long career in software development. Oh right, it's a general-purpose programming language that's known for its simplicity despite being powerful. That makes sense because if you need to do anything complex, Python can handle it, especially with libraries.\n",
      "\n",
      "I've heard of modules before, which are like packages that other programs use. So Python can have these modules that add functionality to the main code. But does that make Python a standalone language or just a tool for other languages? Or is it something else entirely?\n",
      "\n",
      "Let me think about its structure. Python uses syntax similar to English, but with some differences. There are keywords like if, while, etc., which you can't use in normal programming. Control structures are also unique. For instance, in English, you have \"if-else\" statements, while in Python it's elif, else clause.\n",
      "\n",
      "I'm not entirely sure about the language features. I think Python supports object-oriented programming, where objects have attributes and methods. That makes sense because many real-world applications use OO patterns. But does that make it a separate paradigm compared to other languages?\n",
      "\n",
      "Also, I remember terms like interpreter vs compiler. The interpreter runs code as you type it, while the compiler pre-processes the code before running it. So Python is an interpreter, which means it's easier for someone just starting out because they don't have to write all the syntax right away.\n",
      "\n",
      "What about data structures? Python has lists, dictionaries, sets, and others. It can handle complex data like tuples and generators, which are useful in certain scenarios. I'm curious if there are any limitations or specific use cases where Python isn't suitable, but I think it's versatile enough for most programming needs.\n",
      "\n",
      "Another thing is the community aspect. Since it's open-source and widely used, there's a large community contributing to its development. That means there's support, resources, and updates available continuously.\n",
      "\n",
      "Wait, did I miss any key points? Maybe its versatility in programming languages beyond just web development. It can be used for web, mobile app, desktop applications, and even systems programming. So it's not limited to any one area, which is a big part of why it's so popular.\n",
      "\n",
      "I should also consider the learning aspect. Python has a gentle learning curve because of its simplicity despite being powerful. This makes it accessible for many people, including those new to programming, which is another point where someone would explain it well.\n",
      "\n",
      "But I'm not entirely sure if that makes Python more than just a programming language or just a language with some unique features. There must be something else that distinguishes it from other languages. Maybe its role in the broader ecosystem of software development and web technologies adds to why it's considered so important.\n",
      "\n",
      "In summary, after thinking through all these points, I realize that Python is a high-level, general-purpose programming language known for its simplicity and power, with features like modules, interpreter, and object-oriented programming, as well as being widely used in various applications. Its community support and versatility make it a key tool in software development.\n",
      "</think>\n",
      "\n",
      "Python is a versatile, high-level programming language that is renowned for its simplicity and efficiency, despite its rich set of features. Here's a structured overview of Python:\n",
      "\n",
      "1. **Language Overview**: \n",
      "   - Developed by businessman and developer Tim Newsham, along with others, it emerged as a general-purpose language designed to be easy to learn yet powerful.\n",
      "   - Known for its minimalist syntax, which allows for concise code writing.\n",
      "\n",
      "2. **Key Features**:\n",
      "   - **Object-Oriented Programming (OOP)**: Python supports OOP using keywords like `if`, `elif`, and `else` instead of the traditional `else if`.\n",
      "   - **Interpreted Language**: Unlike compiled languages, Python is an interpreted interpreter that runs code as you type it.\n",
      "   - **Modules and Libraries**: It includes a module system allowing for the creation of reusable \"objects\" of code. Modules are collections of functions, classes, or variables used by other programs.\n",
      "\n",
      "3. **Data Structures**:\n",
      "   - Supports basic data structures such as lists, dictionaries, tuples, sets, etc., which are essential for various applications.\n",
      "   - Handles complex structures like generators and tuples, making it suitable for both simple and intricate tasks.\n",
      "\n",
      "4. **Broader Context**:\n",
      "   - Python is part of the broader ecosystem that includes web technologies, mobile applications, desktop apps, and systems programming.\n",
      "   - It has a significant community contribution, offering continuous support, resources, and updates.\n",
      "\n",
      "5. **Learning Curve**:\n",
      "   - Known for its gentle learning curve due to its simplicity, making it accessible to many newcomers while providing enough complexity to suit a range of programmers.\n",
      "\n",
      "6. **Widely Used in Software Development**:\n",
      "   - Python is not limited to web development; it is used across various domains including web, mobile app, desktop apps, and systems programming.\n",
      "   - Its versatility makes it a key tool for software developers worldwide.\n",
      "\n",
      "7. **Community Support**:\n",
      "   - The community contributes to its development, providing resources, tutorials, and updates, enhancing the overall quality of Python's ecosystem.\n",
      "\n",
      "In summary, Python is a fundamental language in the broader software development landscape, offering a combination of simplicity, power, and versatility. Its use spans multiple domains, making it a crucial tool for programmers seeking flexibility and ease in coding.\n"
     ]
    }
   ],
   "source": [
    "print(response.content)"
   ]
  },
  {
   "cell_type": "code",
   "execution_count": null,
   "metadata": {},
   "outputs": [],
   "source": [
    "from langchain_ollama import ChatOllama\n",
    "from langchain_core.prompts import ChatPromptTemplate\n",
    "\n",
    "# Ollama를 사용하여 로컬에서 실행 중인 llama3.2 모델 로드\n",
    "llm = ChatOllama(model=\"qwen3:1.7b\")\n",
    "\n",
    "# 더 정확한 응답을 위한 개선된 프롬프트\n",
    "prompt_template = ChatPromptTemplate.from_messages([\n",
    "    (\"system\", \"You are an AI assistant that provides accurate and detailed answers.\"),\n",
    "    (\"human\", \"Q: {question}\\nA:\")\n",
    "])\n",
    "\n",
    "# 최신 LangChain 방식: RunnableSequence 활용\n",
    "chain = prompt_template | llm\n",
    "\n",
    "# 실행 예시\n",
    "question = \"파이썬은 무엇인가요?\"\n",
    "response = chain.invoke({\"question\": question})\n",
    "\n",
    "print(response.content)"
   ]
  }
 ],
 "metadata": {
  "kernelspec": {
   "display_name": "mylangchain-app-SBe-Yh6W-py3.12",
   "language": "python",
   "name": "python3"
  },
  "language_info": {
   "codemirror_mode": {
    "name": "ipython",
    "version": 3
   },
   "file_extension": ".py",
   "mimetype": "text/x-python",
   "name": "python",
   "nbconvert_exporter": "python",
   "pygments_lexer": "ipython3",
   "version": "3.12.7"
  }
 },
 "nbformat": 4,
 "nbformat_minor": 2
}
